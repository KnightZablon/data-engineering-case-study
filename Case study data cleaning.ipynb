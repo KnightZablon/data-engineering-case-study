{
 "cells": [
  {
   "cell_type": "code",
   "execution_count": 14,
   "id": "2d122e1b-5e56-466f-9228-898ba43a0956",
   "metadata": {
    "tags": []
   },
   "outputs": [
    {
     "name": "stdout",
     "output_type": "stream",
     "text": [
      "Data cleaning completed! Cleaned files have been saved.\n"
     ]
    }
   ],
   "source": [
    "import pandas as pd\n",
    "import numpy as np\n",
    "\n",
    "# Function to clean CSV files\n",
    "def clean_csv(file_path):\n",
    "    # Read CSV with correct delimiter\n",
    "    df = pd.read_csv(file_path, sep=\";\", encoding=\"utf-8\")\n",
    "\n",
    "    # Convert numeric columns with comma (European format)\n",
    "    for col in df.select_dtypes(include=[\"object\"]).columns:\n",
    "        if df[col].str.contains(\",\", regex=False).any():\n",
    "            df[col] = df[col].str.replace(\",\", \".\", regex=False)\n",
    "            df[col] = pd.to_numeric(df[col], errors=\"coerce\")\n",
    "\n",
    "    # Convert date columns\n",
    "    date_cols = [\"start_date\", \"maturity_date\", \"reference_date\"]\n",
    "    for col in date_cols:\n",
    "        if col in df.columns:\n",
    "            df[col] = pd.to_datetime(df[col], errors=\"coerce\")\n",
    "\n",
    "    # Replace \"null\" with NaN\n",
    "    df.replace(\"null\", np.nan, inplace=True)\n",
    "\n",
    "    # Remove duplicates\n",
    "    df.drop_duplicates(inplace=True)\n",
    "\n",
    "    return df\n",
    "\n",
    "# Clean each dataset\n",
    "accounts_df = clean_csv(\"Data Engineer Case Study - Accounts.csv\")\n",
    "deposits_df = clean_csv(\"Data Engineer Case Study - Deposits.csv\")\n",
    "loans_df = clean_csv(\"Data Engineer Case Study - Loans.csv\")\n",
    "\n",
    "# Save cleaned versions\n",
    "accounts_df.to_csv(\"Cleaned_Accounts.csv\", index=False)\n",
    "deposits_df.to_csv(\"Cleaned_Deposits.csv\", index=False)\n",
    "loans_df.to_csv(\"Cleaned_Loans.csv\", index=False)\n",
    "\n",
    "print(\"Data cleaning completed! Cleaned files have been saved.\")\n"
   ]
  },
  {
   "cell_type": "code",
   "execution_count": 16,
   "id": "51ae78f3-29a7-4d33-b8ac-6f03eb9313fd",
   "metadata": {
    "tags": []
   },
   "outputs": [
    {
     "name": "stdout",
     "output_type": "stream",
     "text": [
      "Data cleaning completed for Accounts.csv! Cleaned file saved as Cleaned_Accounts.csv.\n",
      "Data cleaning completed for Deposits.csv! Cleaned file saved as Cleaned_Deposits.csv.\n",
      "Data cleaning completed for Loans.csv! Cleaned file saved as Cleaned_Loans.csv.\n"
     ]
    }
   ],
   "source": [
    "import pandas as pd\n",
    "import numpy as np\n",
    "import logging\n",
    "\n",
    "# Setup logging for debugging\n",
    "logging.basicConfig(filename=\"data_cleaning.log\", level=logging.INFO, format=\"%(asctime)s - %(levelname)s - %(message)s\")\n",
    "\n",
    "# Define expected data types\n",
    "expected_dtypes = {\n",
    "    \"account_number\": str,\n",
    "    \"amount\": float,\n",
    "    \"account_name\": str,\n",
    "    \"account_type\": str,\n",
    "    \"reference_date\": \"datetime64\",\n",
    "    \"customer\": str,\n",
    "    \"customer_type\": \"category\",\n",
    "    \"deposit_type\": \"category\",\n",
    "    \"loan_type\": \"category\",\n",
    "    \"country\": \"category\",\n",
    "    \"currency\": \"category\",\n",
    "    \"exchange_rate\": float,\n",
    "    \"start_date\": \"datetime64\",\n",
    "    \"maturity_date\": \"datetime64\",\n",
    "    \"reference_date\": \"datetime64\"\n",
    "}\n",
    "\n",
    "# Function to clean CSV files\n",
    "def clean_csv(file_path, file_name):\n",
    "    try:\n",
    "        # Read CSV with correct delimiter\n",
    "        df = pd.read_csv(file_path, sep=\";\", encoding=\"utf-8\")\n",
    "\n",
    "        # Standardize column names (strip spaces, lowercase)\n",
    "        df.columns = df.columns.str.strip().str.lower()\n",
    "\n",
    "        # Convert numeric columns (European format fix)\n",
    "        for col in df.select_dtypes(include=[\"object\"]).columns:\n",
    "            if df[col].str.contains(\",\", regex=False).any():\n",
    "                df[col] = df[col].str.replace(\",\", \".\", regex=False)\n",
    "                df[col] = pd.to_numeric(df[col], errors=\"coerce\")\n",
    "\n",
    "        # Convert date columns\n",
    "        date_cols = [\"start_date\", \"maturity_date\", \"reference_date\"]\n",
    "        for col in date_cols:\n",
    "            if col in df.columns:\n",
    "                df[col] = pd.to_datetime(df[col], errors=\"coerce\")\n",
    "\n",
    "        # Replace \"null\" with NaN\n",
    "        df.replace(\"null\", np.nan, inplace=True)\n",
    "\n",
    "        # Handle categorical columns (convert to lowercase & strip spaces)\n",
    "        for col in df.select_dtypes(include=[\"object\"]).columns:\n",
    "            df[col] = df[col].str.lower().str.strip()\n",
    "\n",
    "        # Remove duplicates\n",
    "        df.drop_duplicates(inplace=True)\n",
    "\n",
    "        # Enforce expected data types\n",
    "        for col, dtype in expected_dtypes.items():\n",
    "            if col in df.columns:\n",
    "                df[col] = df[col].astype(dtype, errors=\"ignore\")\n",
    "\n",
    "        # Handle negative and extreme values in amount\n",
    "        if \"amount\" in df.columns:\n",
    "            negative_values = df[df[\"amount\"] < 0]\n",
    "            if not negative_values.empty:\n",
    "                logging.warning(f\"Negative values found in {file_name}: \\n{negative_values}\")\n",
    "                df[\"amount\"] = df[\"amount\"].apply(lambda x: np.nan if x < 0 else x)\n",
    "\n",
    "        # Save cleaned file\n",
    "        cleaned_file = f\"Cleaned_{file_name}\"\n",
    "        df.to_csv(cleaned_file, index=False)\n",
    "\n",
    "        logging.info(f\"Successfully cleaned {file_name}\")\n",
    "        print(f\"Data cleaning completed for {file_name}! Cleaned file saved as {cleaned_file}.\")\n",
    "\n",
    "        return df\n",
    "\n",
    "    except Exception as e:\n",
    "        logging.error(f\"Error cleaning {file_name}: {str(e)}\")\n",
    "        print(f\"Error processing {file_name}. Check logs for details.\")\n",
    "        return None\n",
    "\n",
    "# Clean each dataset\n",
    "accounts_df = clean_csv(\"Data Engineer Case Study - Accounts.csv\", \"Accounts.csv\")\n",
    "deposits_df = clean_csv(\"Data Engineer Case Study - Deposits.csv\", \"Deposits.csv\")\n",
    "loans_df = clean_csv(\"Data Engineer Case Study - Loans.csv\", \"Loans.csv\")\n"
   ]
  },
  {
   "cell_type": "code",
   "execution_count": null,
   "id": "c0b9cc76-d963-446d-a848-46d304004e6c",
   "metadata": {},
   "outputs": [],
   "source": []
  }
 ],
 "metadata": {
  "kernelspec": {
   "display_name": "Python 3 (ipykernel)",
   "language": "python",
   "name": "python3"
  },
  "language_info": {
   "codemirror_mode": {
    "name": "ipython",
    "version": 3
   },
   "file_extension": ".py",
   "mimetype": "text/x-python",
   "name": "python",
   "nbconvert_exporter": "python",
   "pygments_lexer": "ipython3",
   "version": "3.11.5"
  }
 },
 "nbformat": 4,
 "nbformat_minor": 5
}
